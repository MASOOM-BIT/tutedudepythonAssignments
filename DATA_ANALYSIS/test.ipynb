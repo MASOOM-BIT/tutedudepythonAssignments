import kagglehub

# Download latest version
path = kagglehub.dataset_download("romanfonel/precious-metals-history-since-2000-with-news")

print("Path to dataset files:", path)